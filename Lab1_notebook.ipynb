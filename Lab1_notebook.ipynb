{
 "cells": [
  {
   "cell_type": "code",
   "execution_count": 3,
   "metadata": {},
   "outputs": [],
   "source": [
    "import numpy as np\n",
    "import matplotlib as plt\n",
    "import pandas as pd"
   ]
  },
  {
   "cell_type": "markdown",
   "metadata": {},
   "source": [
    "## Lab 1 Enterprise Risk Management"
   ]
  },
  {
   "cell_type": "code",
   "execution_count": 6,
   "metadata": {},
   "outputs": [
    {
     "name": "stdout",
     "output_type": "stream",
     "text": [
      "36\n"
     ]
    }
   ],
   "source": [
    "from task1 import * # How to load all functions from a file into the notebook\n",
    "print(add_numbers(31,5))"
   ]
  },
  {
   "cell_type": "markdown",
   "metadata": {},
   "source": [
    "## 4. VaR forecasts using historical simulation\n",
    "\n",
    "Use backtesting to compare daily VaR98%-forecasts for the period 2020-01-01 -> 2023-12-31 using two versions\n",
    "of basic historical simulation with rolling estimation windows of length 500 and 1000 days respectively.\n",
    "- a) Plot the VaR-forecasts in the same plot as the (negative) returns\n",
    "- b) Calculate the violation ratios for the different methods and give the number of violations for each\n",
    "method in the report\n",
    "\n",
    "*Discussion: What are the pros and cons of using these methods?*"
   ]
  },
  {
   "cell_type": "code",
   "execution_count": null,
   "metadata": {},
   "outputs": [],
   "source": []
  },
  {
   "cell_type": "markdown",
   "metadata": {},
   "source": [
    "## 5. VaR forecasts using GARCH and FHS\n",
    "\n",
    "Repeat the backtest procedure in 4 but now based on the GARCH-model from 2. The two models to backtest\n",
    "are:\n",
    "- GARCH with the assumption of normally distributed conditional returns\n",
    "- One-period filtered historical simulation (FHS)\n",
    "\n",
    "You do not need to recalibrate the GARCH-model during the backtest period.\n",
    "- a) Plot the VaR-forecasts in the same plot as in 4\n",
    "- b) Calculate the violation ratios\n",
    "\n",
    "*Discussion: What are the pros and cons of using these methods?*"
   ]
  },
  {
   "cell_type": "code",
   "execution_count": null,
   "metadata": {},
   "outputs": [],
   "source": []
  }
 ],
 "metadata": {
  "kernelspec": {
   "display_name": "myenv",
   "language": "python",
   "name": "python3"
  },
  "language_info": {
   "codemirror_mode": {
    "name": "ipython",
    "version": 3
   },
   "file_extension": ".py",
   "mimetype": "text/x-python",
   "name": "python",
   "nbconvert_exporter": "python",
   "pygments_lexer": "ipython3",
   "version": "3.11.9"
  }
 },
 "nbformat": 4,
 "nbformat_minor": 2
}
