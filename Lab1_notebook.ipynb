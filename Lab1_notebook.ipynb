{
 "cells": [
  {
   "cell_type": "code",
   "execution_count": 10,
   "metadata": {},
   "outputs": [],
   "source": [
    "import numpy as np\n",
    "import matplotlib as plt\n",
    "import pandas as pd\n",
    "import yfinance as yf\n",
    "import importlib\n",
    "import dataReading \n"
   ]
  },
  {
   "cell_type": "markdown",
   "metadata": {},
   "source": [
    "## Lab 1 Enterprise Risk Management"
   ]
  },
  {
   "cell_type": "markdown",
   "metadata": {},
   "source": [
    "## 1. Daily volatility forecast using MA and EWMA\n",
    "\n",
    "Perform a daily volatility forecast using MA and EWMA with a 60 day estimation window, over the time period\n",
    "2020-01-01 -> 2023-12-31 for the Nasdaq 100 index (^NDX). Plot the daily forecasts in the same plot. Plot also\n",
    "the log-returns in a separate plot below.\n",
    "\n",
    "*Discussion: What is the main reason for the differences in these two forecasts.*"
   ]
  },
  {
   "cell_type": "code",
   "execution_count": 16,
   "metadata": {},
   "outputs": [],
   "source": [
    "# How to load all functions from a file into the notebook\n",
    "importlib.reload(dataReading) # Needed so that you dont need to reload kernel when changing function\n",
    "from dataReading import *"
   ]
  },
  {
   "cell_type": "code",
   "execution_count": 19,
   "metadata": {},
   "outputs": [],
   "source": [
    "### To download data and store it as a csv file in the folder DataFileFolder. The filename is price_<TICKER>\n",
    "# ticker = '^NDX'\n",
    "# startDate = '2020-01-01'\n",
    "# endDate = '2023-12-31'\n",
    "# stockData = readDataFromYahoo(ticker, startDate, endDate)\n",
    "\n",
    "# fileName = saveDataToCsv(stockData = stockData, stockName = ticker)"
   ]
  },
  {
   "cell_type": "code",
   "execution_count": 20,
   "metadata": {},
   "outputs": [],
   "source": [
    "# To download data from file\n",
    "stockDataFromFile = readDataFromFile('price_^NDX.csv')\n"
   ]
  },
  {
   "cell_type": "markdown",
   "metadata": {},
   "source": [
    "## 2. Daily volatility forecast using GARCH\n",
    "\n",
    "Fit a GARCH(1,1)-model using Nasdaq return data for the time period 2010-01-01 -> 2019-12-31 and then\n",
    "perform a daily volatility forecast as in 1, with forecasting period: 2020-01-01 -> 2023-12-31. Plot your daily\n",
    "forecast in the same plot as in 1.\n",
    "\n",
    "*Discussion: What is the main reason for the difference between the GARCH and the EWMA forecast.*"
   ]
  },
  {
   "cell_type": "code",
   "execution_count": null,
   "metadata": {},
   "outputs": [],
   "source": []
  },
  {
   "cell_type": "markdown",
   "metadata": {},
   "source": [
    "## 3. GARCH model diagnostics\n",
    "\n",
    "Analyze the GARCH-model and perform model diagnostics:\n",
    "- a) What are the GARCH-parameters and what is the unconditional volatility?\n",
    "- b) Plot the ACF (for lags 1 to 200) for the returns and the squared returns (use a stem-plot).\n",
    "- c) Plot the ACF (for lags 1 to 200) for the residuals and the squared residuals (use a stem-plot).\n",
    "- d) Plot a histogram (using 100 bins) of the residuals together with a normal pdf (same mean and std).\n",
    "- e) QQ-plot the residuals against normal- and student t quantiles. What t-distribution provides the best fit\n",
    "to the left tail?\n",
    "\n",
    "*Discussion: What does b) and c) tell you? What does d), e) and f) tell you?*"
   ]
  },
  {
   "cell_type": "code",
   "execution_count": null,
   "metadata": {},
   "outputs": [],
   "source": []
  },
  {
   "cell_type": "markdown",
   "metadata": {},
   "source": [
    "## 4. VaR forecasts using historical simulation\n",
    "\n",
    "Use backtesting to compare daily VaR98%-forecasts for the period 2020-01-01 -> 2023-12-31 using two versions\n",
    "of basic historical simulation with rolling estimation windows of length 500 and 1000 days respectively.\n",
    "- a) Plot the VaR-forecasts in the same plot as the (negative) returns\n",
    "- b) Calculate the violation ratios for the different methods and give the number of violations for each\n",
    "method in the report\n",
    "\n",
    "*Discussion: What are the pros and cons of using these methods?*"
   ]
  },
  {
   "cell_type": "code",
   "execution_count": null,
   "metadata": {},
   "outputs": [],
   "source": []
  },
  {
   "cell_type": "markdown",
   "metadata": {},
   "source": [
    "## 5. VaR forecasts using GARCH and FHS\n",
    "\n",
    "Repeat the backtest procedure in 4 but now based on the GARCH-model from 2. The two models to backtest\n",
    "are:\n",
    "- GARCH with the assumption of normally distributed conditional returns\n",
    "- One-period filtered historical simulation (FHS)\n",
    "\n",
    "You do not need to recalibrate the GARCH-model during the backtest period.\n",
    "- a) Plot the VaR-forecasts in the same plot as in 4\n",
    "- b) Calculate the violation ratios\n",
    "\n",
    "*Discussion: What are the pros and cons of using these methods?*"
   ]
  },
  {
   "cell_type": "code",
   "execution_count": null,
   "metadata": {},
   "outputs": [],
   "source": []
  }
 ],
 "metadata": {
  "kernelspec": {
   "display_name": "myenv",
   "language": "python",
   "name": "python3"
  },
  "language_info": {
   "codemirror_mode": {
    "name": "ipython",
    "version": 3
   },
   "file_extension": ".py",
   "mimetype": "text/x-python",
   "name": "python",
   "nbconvert_exporter": "python",
   "pygments_lexer": "ipython3",
   "version": "3.11.9"
  }
 },
 "nbformat": 4,
 "nbformat_minor": 2
}
